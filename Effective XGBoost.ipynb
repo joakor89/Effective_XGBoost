{
 "cells": [
  {
   "cell_type": "markdown",
   "id": "564584fc",
   "metadata": {},
   "source": [
    "# Datasets\n",
    "\n",
    "### Cleaup & Loading"
   ]
  },
  {
   "cell_type": "code",
   "execution_count": 160,
   "id": "30279fb1",
   "metadata": {},
   "outputs": [],
   "source": [
    "# Data Manipulation\n",
    "import pandas as pd\n",
    "\n",
    "# URL Library\n",
    "import urllib.request\n",
    "import zipfile"
   ]
  },
  {
   "cell_type": "code",
   "execution_count": 161,
   "id": "551650a4",
   "metadata": {},
   "outputs": [],
   "source": [
    "# Retrieving & storage\n",
    "url = 'https://github.com/mattharrison/datasets/raw/master/data/'\\\n",
    "'kaggle-survey-2018.zip'\n",
    "fname = 'kaggle-survey-2018.zip'\n",
    "member_name = 'multipleChoiceResponses.csv'"
   ]
  },
  {
   "cell_type": "code",
   "execution_count": 162,
   "id": "7dcdf072",
   "metadata": {},
   "outputs": [],
   "source": [
    "# Function Extration\n",
    "def extract_zip(src, dst, member_name):\n",
    "    \"\"\"Extract a member file from a zip file & read it into pandas\n",
    "    DataFrame.\n",
    "    \n",
    "    Parameters:\n",
    "        src '(str:)' URL of the zip file to be downloaded and extrated.\n",
    "        dst 'str': Local file path where the zip file will be written.\n",
    "        member_name: Name of the member file inside the zip file to be\n",
    "            read into a DataFrame.\n",
    "            \n",
    "    Returns:\n",
    "        pandas.DataFrame containing the contents of member file.\n",
    "    \"\"\"\n",
    "    url = src\n",
    "    fname = dst\n",
    "    fin = urllib.request.urlopen(url)\n",
    "    data = fin.read()\n",
    "    with open(dst, mode='wb') as fout:\n",
    "        fout.write(data)\n",
    "    with zipfile.ZipFile(dst) as z:\n",
    "        kag = pd.read_csv(z.open(member_name))\n",
    "        kag_questions = kag.iloc[0]\n",
    "        raw = kag.iloc[1:]\n",
    "        return raw"
   ]
  },
  {
   "cell_type": "code",
   "execution_count": 163,
   "id": "3ca2c34f",
   "metadata": {},
   "outputs": [
    {
     "name": "stderr",
     "output_type": "stream",
     "text": [
      "/var/folders/wh/l_q69dcj75z0c82jy8ry71f40000gn/T/ipykernel_19720/3680407660.py:22: DtypeWarning: Columns (0,2,8,10,21,23,24,25,26,27,28,44,56,64,83,85,87,107,109,123,125,150,157,172,174,194,210,218,219,223,246,249,262,264,276,277,278,279,280,281,282,283,284,285,286,287,288,289,290,304,306,325,326,329,341,368,371,384,385,389,390,391,393,394) have mixed types. Specify dtype option on import or set low_memory=False.\n",
      "  kag = pd.read_csv(z.open(member_name))\n"
     ]
    }
   ],
   "source": [
    "raw = extract_zip(url, fname, member_name)"
   ]
  },
  {
   "cell_type": "markdown",
   "id": "6069d72f",
   "metadata": {},
   "source": [
    "## CleanUp Pipeline "
   ]
  },
  {
   "cell_type": "code",
   "execution_count": 164,
   "id": "1936ba10",
   "metadata": {},
   "outputs": [],
   "source": [
    "def tweak_kag(df_: pd.DataFrame) -> pd.DataFrame:\n",
    "    \"\"\"\n",
    "    Tweak the Kaggle survey data and return a new DataFrame.\n",
    "\n",
    "    This function takes a Pandas DataFrame containing Kaggle \n",
    "    survey data as input and returns a new DataFrame. The \n",
    "    modifications include extracting and transforming certain \n",
    "    columns, renaming columns, and selecting a subset of columns.\n",
    "\n",
    "    Parameters\n",
    "    ----------\n",
    "    df_ : pd.DataFrame\n",
    "        The input DataFrame containing Kaggle survey data.\n",
    "\n",
    "    Returns\n",
    "    -------\n",
    "    pd.DataFrame\n",
    "        The new DataFrame with the modified and selected columns.\n",
    "    \"\"\"    \n",
    "    return (df_\n",
    "            .assign(age=df_.Q2.str.slice(0,2).astype(int),\n",
    "                    education=df_.Q4.replace({'Master’s degree': 18,\n",
    "                         'Bachelor’s degree': 16,\n",
    "                         'Doctoral degree': 20,\n",
    "'Some college/university study without earning a bachelor’s degree': 13,\n",
    "                         'Professional degree': 19,\n",
    "                         'I prefer not to answer': None,\n",
    "                         'No formal education past high school': 12}),\n",
    "                    major=(df_.Q5\n",
    "                              .pipe(topn, n=3)\n",
    "                              .replace({\n",
    "                        'Computer science (software engineering, etc.)': 'cs',\n",
    "                        'Engineering (non-computer focused)': 'eng',\n",
    "                        'Mathematics or statistics': 'stat'})\n",
    "                         ),\n",
    "                    years_exp=(df_.Q8.str.replace('+','', regex=False)\n",
    "                           .str.split('-', expand=True)\n",
    "                           .iloc[:,0]\n",
    "                           .astype(float)),\n",
    "                    compensation=(df_.Q9.str.replace('+','', regex=False)\n",
    "                           .str.replace(',','', regex=False)\n",
    "                           .str.replace('500000', '500', regex=False)\n",
    "  .str.replace('I do not wish to disclose my approximate yearly compensation',\n",
    "             '0', regex=False)\n",
    "                           .str.split('-', expand=True)\n",
    "                           .iloc[:,0]\n",
    "                           .fillna(0)\n",
    "                           .astype(int)\n",
    "                           .mul(1_000)\n",
    "                                    ),\n",
    "                    python=df_.Q16_Part_1.fillna(0).replace('Python', 1),\n",
    "                    r=df_.Q16_Part_2.fillna(0).replace('R', 1),\n",
    "                    sql=df_.Q16_Part_3.fillna(0).replace('SQL', 1)\n",
    "               )#assign\n",
    "        .rename(columns=lambda col:col.replace(' ', '_'))\n",
    "        .loc[:, 'Q1,Q3,age,education,major,years_exp,compensation,'\n",
    "                'python,r,sql'.split(',')]   \n",
    "       )\n"
   ]
  },
  {
   "cell_type": "code",
   "execution_count": 165,
   "id": "874fbf13",
   "metadata": {},
   "outputs": [],
   "source": [
    "def topn(ser, n=5, default='other'):\n",
    "    counts = ser.value_counts()\n",
    "    return ser.where(ser.isin(counts.index[:n]), default)"
   ]
  },
  {
   "cell_type": "code",
   "execution_count": 166,
   "id": "5c5fb193",
   "metadata": {},
   "outputs": [],
   "source": [
    "from feature_engine import encoding, imputation\n",
    "from sklearn import base, pipeline"
   ]
  },
  {
   "cell_type": "code",
   "execution_count": 167,
   "id": "8b400622",
   "metadata": {},
   "outputs": [],
   "source": [
    "class TweakKagTransformer(base.BaseEstimator, base.TransformerMixin):\n",
    "    \n",
    "    def __init__(self, ycol=None):\n",
    "        self.ycol = ycol\n",
    "        \n",
    "    def transform(self, X):\n",
    "        return tweak_kag(X)\n",
    "    \n",
    "    def fit(self, X, y=None):\n",
    "        return self"
   ]
  },
  {
   "cell_type": "code",
   "execution_count": 168,
   "id": "18184c8c",
   "metadata": {},
   "outputs": [],
   "source": [
    "def get_rawX_y(df, y_col):\n",
    "    raw = (df\n",
    "           .query('Q3.isin([\"United States of America\", \"China\", \"India\"]) '\n",
    "              'and Q6.isin([\"Data Scientist\", \"Software Engineer\"])')\n",
    "    )\n",
    "    return raw.drop(columns=[y_col]), raw[y_col]"
   ]
  },
  {
   "cell_type": "code",
   "execution_count": 169,
   "id": "d461d9d6",
   "metadata": {},
   "outputs": [],
   "source": [
    "# Create Pipeline\n",
    "kag_pl = pipeline.Pipeline(\n",
    "    [('tweak', TweakKagTransformer()),\n",
    "     ('cat', encoding.OneHotEncoder(top_categories=5, drop_last=True, variables=['Q1', 'Q3', 'major'])),\n",
    "     ('num_impute', imputation.MeanMedianImputer(imputation_method='median', variables=['education', 'years_exp']))]\n",
    ")"
   ]
  },
  {
   "cell_type": "code",
   "execution_count": 171,
   "id": "e340811d",
   "metadata": {},
   "outputs": [],
   "source": [
    "from sklearn import model_selection"
   ]
  },
  {
   "cell_type": "code",
   "execution_count": 172,
   "id": "08492a1b",
   "metadata": {},
   "outputs": [],
   "source": [
    "kag_X, kag_y = get_rawX_y(raw, 'Q6')\n",
    "\n",
    "kag_X_train, kag_X_test, kag_y_train, kag_y_test = \\\n",
    "model_selection.train_test_split(\n",
    "    kag_X, kag_y, test_size=.3, random_state=42, stratify=kag_y)"
   ]
  },
  {
   "cell_type": "code",
   "execution_count": 173,
   "id": "a70b8abe",
   "metadata": {},
   "outputs": [],
   "source": [
    "X_train = kag_pl.fit_transform(kag_X_train, kag_y_train)\n",
    "\n",
    "X_test = kag_pl.transform(kag_X_test)"
   ]
  },
  {
   "cell_type": "code",
   "execution_count": 174,
   "id": "ac8be539",
   "metadata": {},
   "outputs": [
    {
     "name": "stdout",
     "output_type": "stream",
     "text": [
      "       age  education  years_exp  compensation  python  r  sql  Q1_Male  \\\n",
      "587     25       18.0        4.0             0       1  0    1        1   \n",
      "3065    22       16.0        1.0         10000       1  0    0        1   \n",
      "8435    22       18.0        1.0             0       1  0    0        1   \n",
      "3110    40       20.0        3.0        125000       1  0    1        0   \n",
      "16372   45       12.0        5.0        100000       1  0    1        1   \n",
      "...    ...        ...        ...           ...     ... ..  ...      ...   \n",
      "16608   25       16.0        2.0         10000       0  0    1        1   \n",
      "7325    18       16.0        1.0         30000       1  0    1        1   \n",
      "21810   18       16.0        2.0             0       0  0    0        1   \n",
      "4917    25       18.0        1.0        100000       1  0    1        1   \n",
      "639     25       18.0        1.0         10000       1  0    0        0   \n",
      "\n",
      "       Q1_Female  Q1_Prefer not to say  Q1_Prefer to self-describe  \\\n",
      "587            0                     0                           0   \n",
      "3065           0                     0                           0   \n",
      "8435           0                     0                           0   \n",
      "3110           1                     0                           0   \n",
      "16372          0                     0                           0   \n",
      "...          ...                   ...                         ...   \n",
      "16608          0                     0                           0   \n",
      "7325           0                     0                           0   \n",
      "21810          0                     0                           0   \n",
      "4917           0                     0                           0   \n",
      "639            1                     0                           0   \n",
      "\n",
      "       Q3_United States of America  Q3_India  Q3_China  major_cs  major_other  \\\n",
      "587                              0         1         0         0            1   \n",
      "3065                             0         1         0         1            0   \n",
      "8435                             0         1         0         0            1   \n",
      "3110                             1         0         0         0            1   \n",
      "16372                            1         0         0         0            1   \n",
      "...                            ...       ...       ...       ...          ...   \n",
      "16608                            0         1         0         1            0   \n",
      "7325                             1         0         0         1            0   \n",
      "21810                            0         1         0         1            0   \n",
      "4917                             1         0         0         0            0   \n",
      "639                              0         1         0         1            0   \n",
      "\n",
      "       major_eng  major_stat  \n",
      "587            0           0  \n",
      "3065           0           0  \n",
      "8435           0           0  \n",
      "3110           0           0  \n",
      "16372          0           0  \n",
      "...          ...         ...  \n",
      "16608          0           0  \n",
      "7325           0           0  \n",
      "21810          0           0  \n",
      "4917           0           1  \n",
      "639            0           0  \n",
      "\n",
      "[2110 rows x 18 columns]\n"
     ]
    }
   ],
   "source": [
    "print(X_train)"
   ]
  },
  {
   "cell_type": "code",
   "execution_count": 175,
   "id": "ed301605",
   "metadata": {},
   "outputs": [
    {
     "data": {
      "text/plain": [
       "587      Software Engineer\n",
       "3065        Data Scientist\n",
       "8435        Data Scientist\n",
       "3110        Data Scientist\n",
       "16372    Software Engineer\n",
       "               ...        \n",
       "16608    Software Engineer\n",
       "7325     Software Engineer\n",
       "21810       Data Scientist\n",
       "4917        Data Scientist\n",
       "639         Data Scientist\n",
       "Name: Q6, Length: 2110, dtype: object"
      ]
     },
     "execution_count": 175,
     "metadata": {},
     "output_type": "execute_result"
    }
   ],
   "source": [
    "kag_y_train"
   ]
  },
  {
   "cell_type": "markdown",
   "id": "c3c0a65f",
   "metadata": {},
   "source": [
    "## Exploratory Data Analysis "
   ]
  },
  {
   "cell_type": "code",
   "execution_count": null,
   "id": "987c7e2d",
   "metadata": {},
   "outputs": [],
   "source": []
  }
 ],
 "metadata": {
  "kernelspec": {
   "display_name": "Python 3 (ipykernel)",
   "language": "python",
   "name": "python3"
  },
  "language_info": {
   "codemirror_mode": {
    "name": "ipython",
    "version": 3
   },
   "file_extension": ".py",
   "mimetype": "text/x-python",
   "name": "python",
   "nbconvert_exporter": "python",
   "pygments_lexer": "ipython3",
   "version": "3.9.16"
  }
 },
 "nbformat": 4,
 "nbformat_minor": 5
}
