{
 "cells": [
  {
   "cell_type": "markdown",
   "id": "564584fc",
   "metadata": {},
   "source": [
    "# Datasets\n",
    "\n",
    "### Cleaup & Loading"
   ]
  },
  {
   "cell_type": "code",
   "execution_count": 1,
   "id": "30279fb1",
   "metadata": {},
   "outputs": [],
   "source": [
    "# Data Manipulation\n",
    "import pandas as pd\n",
    "\n",
    "# URL Library\n",
    "import urllib.request\n",
    "import zipfile"
   ]
  },
  {
   "cell_type": "code",
   "execution_count": 3,
   "id": "551650a4",
   "metadata": {},
   "outputs": [],
   "source": [
    "# Retrieving & storage\n",
    "url = 'https://github.com/mattharrison/datasets/raw/master/data/'\\\n",
    "'kaggle-survey-2018.zip'\n",
    "fname = 'kaggle-survey-2018.zip'\n",
    "member_name = 'multipleChoiceResponses.csv'"
   ]
  },
  {
   "cell_type": "code",
   "execution_count": 6,
   "id": "7dcdf072",
   "metadata": {},
   "outputs": [],
   "source": [
    "# Function Extration\n",
    "def extract_zip(src, dst, member_name):\n",
    "    \"\"\"Extract a member file from a zip file & read it into pandas\n",
    "    DataFrame.\n",
    "    \n",
    "    Parameters:\n",
    "        src '(str:)' URL of the zip file to be downloaded and extrated.\n",
    "        dst 'str': Local file path where the zip file will be written.\n",
    "        member_name: Name of the member file inside the zip file to be\n",
    "            read into a DataFrame.\n",
    "            \n",
    "    Returns:\n",
    "        pandas.DataFrame containing the contents of member file.\n",
    "    \"\"\"\n",
    "    url = src\n",
    "    fname = dst\n",
    "    fin = urllib.request.urlopen(url)\n",
    "    data = fin.read()\n",
    "    with open(dst, mode='wb') as fout:\n",
    "        fout.write(data)\n",
    "    with zipfile.ZipFile(dst) as z:\n",
    "        kag = pd.read_csv(z.open(member_name))\n",
    "        kag_questions = kag.iloc[0]\n",
    "        raw = kag.iloc[1:]\n",
    "        return raw"
   ]
  },
  {
   "cell_type": "code",
   "execution_count": 7,
   "id": "3ca2c34f",
   "metadata": {},
   "outputs": [
    {
     "name": "stderr",
     "output_type": "stream",
     "text": [
      "/var/folders/wh/l_q69dcj75z0c82jy8ry71f40000gn/T/ipykernel_3004/3680407660.py:22: DtypeWarning: Columns (0,2,8,10,21,23,24,25,26,27,28,44,56,64,83,85,87,107,109,123,125,150,157,172,174,194,210,218,219,223,246,249,262,264,276,277,278,279,280,281,282,283,284,285,286,287,288,289,290,304,306,325,326,329,341,368,371,384,385,389,390,391,393,394) have mixed types. Specify dtype option on import or set low_memory=False.\n",
      "  kag = pd.read_csv(z.open(member_name))\n"
     ]
    }
   ],
   "source": [
    "raw = extract_zip(url, fname, member_name)"
   ]
  },
  {
   "cell_type": "markdown",
   "id": "6069d72f",
   "metadata": {},
   "source": [
    "## CleanUp Pipeline "
   ]
  },
  {
   "cell_type": "code",
   "execution_count": null,
   "id": "4adc3ca0",
   "metadata": {},
   "outputs": [],
   "source": []
  }
 ],
 "metadata": {
  "kernelspec": {
   "display_name": "Python 3 (ipykernel)",
   "language": "python",
   "name": "python3"
  },
  "language_info": {
   "codemirror_mode": {
    "name": "ipython",
    "version": 3
   },
   "file_extension": ".py",
   "mimetype": "text/x-python",
   "name": "python",
   "nbconvert_exporter": "python",
   "pygments_lexer": "ipython3",
   "version": "3.9.16"
  }
 },
 "nbformat": 4,
 "nbformat_minor": 5
}
