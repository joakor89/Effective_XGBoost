{
 "cells": [
  {
   "cell_type": "markdown",
   "id": "564584fc",
   "metadata": {},
   "source": [
    "# Datasets\n",
    "\n",
    "### Cleaup & Loading"
   ]
  },
  {
   "cell_type": "code",
   "execution_count": 1,
   "id": "30279fb1",
   "metadata": {},
   "outputs": [],
   "source": [
    "# Data Manipulation\n",
    "import pandas as pd\n",
    "\n",
    "# URL Library\n",
    "import urllib.request\n",
    "import zipfile"
   ]
  },
  {
   "cell_type": "code",
   "execution_count": 2,
   "id": "551650a4",
   "metadata": {},
   "outputs": [],
   "source": [
    "# Retrieving & storage\n",
    "url = 'https://github.com/mattharrison/datasets/raw/master/data/'\\\n",
    "'kaggle-survey-2018.zip'\n",
    "fname = 'kaggle-survey-2018.zip'\n",
    "member_name = 'multipleChoiceResponses.csv'"
   ]
  },
  {
   "cell_type": "code",
   "execution_count": 3,
   "id": "7dcdf072",
   "metadata": {},
   "outputs": [],
   "source": [
    "# Function Extration\n",
    "def extract_zip(src, dst, member_name):\n",
    "    \"\"\"Extract a member file from a zip file & read it into pandas\n",
    "    DataFrame.\n",
    "    \n",
    "    Parameters:\n",
    "        src '(str:)' URL of the zip file to be downloaded and extrated.\n",
    "        dst 'str': Local file path where the zip file will be written.\n",
    "        member_name: Name of the member file inside the zip file to be\n",
    "            read into a DataFrame.\n",
    "            \n",
    "    Returns:\n",
    "        pandas.DataFrame containing the contents of member file.\n",
    "    \"\"\"\n",
    "    url = src\n",
    "    fname = dst\n",
    "    fin = urllib.request.urlopen(url)\n",
    "    data = fin.read()\n",
    "    with open(dst, mode='wb') as fout:\n",
    "        fout.write(data)\n",
    "    with zipfile.ZipFile(dst) as z:\n",
    "        kag = pd.read_csv(z.open(member_name))\n",
    "        kag_questions = kag.iloc[0]\n",
    "        raw = kag.iloc[1:]\n",
    "        return raw"
   ]
  },
  {
   "cell_type": "code",
   "execution_count": 4,
   "id": "3ca2c34f",
   "metadata": {},
   "outputs": [
    {
     "name": "stderr",
     "output_type": "stream",
     "text": [
      "/var/folders/wh/l_q69dcj75z0c82jy8ry71f40000gn/T/ipykernel_16105/3680407660.py:22: DtypeWarning: Columns (0,2,8,10,21,23,24,25,26,27,28,44,56,64,83,85,87,107,109,123,125,150,157,172,174,194,210,218,219,223,246,249,262,264,276,277,278,279,280,281,282,283,284,285,286,287,288,289,290,304,306,325,326,329,341,368,371,384,385,389,390,391,393,394) have mixed types. Specify dtype option on import or set low_memory=False.\n",
      "  kag = pd.read_csv(z.open(member_name))\n"
     ]
    }
   ],
   "source": [
    "raw = extract_zip(url, fname, member_name)"
   ]
  },
  {
   "cell_type": "markdown",
   "id": "6069d72f",
   "metadata": {},
   "source": [
    "## CleanUp Pipeline "
   ]
  },
  {
   "cell_type": "code",
   "execution_count": 5,
   "id": "4adc3ca0",
   "metadata": {},
   "outputs": [],
   "source": [
    "def tweak_kag(df_:pd.DataFrame) -> pd.DataFrame:\n",
    "    return (df_\n",
    "            .assing(age=df_.Q2.str.slice(0, 2).astype(int),\n",
    "                    education=df_.Q4.replace({\"Master's degree\":18,\n",
    "                                              \"Bachelor's Degree\": 16,\n",
    "                                              \"some college/university study without earning a bacherlor's degree\":13,\n",
    "                                              \"Professional degree\":19,\n",
    "                                              \"I prefer not to answer\": None,\n",
    "                                              \"Non formal education past high school\": 12}),\n",
    "                    major=(df_.Q5\n",
    "                           .pipe(topn, n=3)\n",
    "                           .replace({\n",
    "                               \"Computer science (software engineering, etc.)\": 'cs',\n",
    "                               'Engineering (non-computer focused)': 'eng',\n",
    "                               'Mathematics of statistics': 'stat'})\n",
    "                          ),\n",
    "                    years_exp=(df_.Q8.str.replace('+', '', regex=False)\n",
    "                              .str.split('-', expand=True)\n",
    "                              .iloc[:0]\n",
    "                              .astype(float)),\n",
    "                    compensation=(df_.Q9.str.replace('+', '', regex=False)\n",
    "                                 .str.replace(',', '', regex=False)\n",
    "                                 .str.replace('500000', '500', regex=False)\n",
    "                                 .str.replace(' I do not wish to disclose my approximate yearly compensation', '0', regex=False)\n",
    "                                 .str.split('-', expand=True)\n",
    "                                 .iloc[:, 0]\n",
    "                                 .fillna(0)\n",
    "                                 .astype(int)\n",
    "                                 .mul(1_000)\n",
    "                                 ),\n",
    "                    python=df_.Q16_Part_1.fillna(0).replace('Python', 1),\n",
    "                    r=df_.Q16_Part_2.fillna(0).replace('R', 1),\n",
    "                    sql=df_.Q16_Part_3.fillna(0).replace('SQL', 1)\n",
    "                   )#assing\n",
    "            .rename(columns=lambda col:col.replace(' ', '_'))\n",
    "            .loc[:, 'Q1, Q3, age, education, major, years_exp, compensation, python, r, sql'.split(',')]\n",
    "    )"
   ]
  },
  {
   "cell_type": "code",
   "execution_count": 6,
   "id": "874fbf13",
   "metadata": {},
   "outputs": [],
   "source": [
    "def topn(ser, n=5, default='other'):\n",
    "    counts = ser.value_counts()\n",
    "    return ser.where(ser.isin(counts.index[:n]), default)"
   ]
  },
  {
   "cell_type": "code",
   "execution_count": 7,
   "id": "5c5fb193",
   "metadata": {},
   "outputs": [
    {
     "name": "stderr",
     "output_type": "stream",
     "text": [
      "/Users/isisromero/opt/anaconda3/envs/Data-science-from-scratch/lib/python3.9/site-packages/scipy/__init__.py:146: UserWarning: A NumPy version >=1.16.5 and <1.23.0 is required for this version of SciPy (detected version 1.26.0\n",
      "  warnings.warn(f\"A NumPy version >={np_minversion} and <{np_maxversion}\"\n"
     ]
    }
   ],
   "source": [
    "from feature_engine import encoding, imputation\n",
    "from sklearn import base, pipeline"
   ]
  },
  {
   "cell_type": "code",
   "execution_count": 8,
   "id": "8b400622",
   "metadata": {},
   "outputs": [],
   "source": [
    "class TweakKagTransformer(base.BaseEstimator, base.TransformerMixin):\n",
    "    \"\"\"\n",
    "    A transformer for tweaking kaggle survey data..\n",
    "    This transformer takes a Pandas DataFrame CONTAINING\n",
    "    Kaggle survey data as input and returns a new version of\n",
    "    the DataFrame. The modifications include extracting and \n",
    "    transforming certain columns, renaming clolumns, and\n",
    "    selecting a subset of columns.\n",
    "    \n",
    "    Parameters\n",
    "    ----------\n",
    "    ycol: str, optional\n",
    "    The name of the column to be used as the target variable.\n",
    "    if not specified, the target variable will not be set.\n",
    "    \n",
    "    Attributes\n",
    "    ----------\n",
    "    ycol: str\n",
    "        the name of the column to be used as the target variable.\n",
    "    \"\"\"\n",
    "    \n",
    "    def __init__(self, ycol=None):\n",
    "        self.ycol = ycol\n",
    "        \n",
    "    def transform(self, X):\n",
    "        return tweak_kag(X)\n",
    "    \n",
    "    def fit(self, X, y=None):\n",
    "        return self"
   ]
  },
  {
   "cell_type": "code",
   "execution_count": 11,
   "id": "18184c8c",
   "metadata": {},
   "outputs": [],
   "source": [
    "def get_rawX_y(df, y_col):\n",
    "    raw = (df\n",
    "           .query('Q3.isin([\"United States of America\", \"China\", \"India\"]) '\n",
    "              'and Q6.isin([\"Data Scientist\", \"Software Engineer\"])')\n",
    "    )\n",
    "    return raw.drop(columns=[y_col]), raw[y_col]"
   ]
  },
  {
   "cell_type": "code",
   "execution_count": 15,
   "id": "d461d9d6",
   "metadata": {},
   "outputs": [],
   "source": [
    "# Create Pipeline\n",
    "kag_pl = pipeline.Pipeline(\n",
    "    [('tweak', TweakKagTransformer()),\n",
    "     ('cat', encoding.OneHotEncoder(top_categories=5, drop_last=True,\n",
    "                                   variables=['Q1', 'Q3', 'major'])),\n",
    "     ('num_impute', imputation.MeanMedianImputer(imputation_method='median', variables=['education', 'years_exp']))]\n",
    ")"
   ]
  },
  {
   "cell_type": "code",
   "execution_count": null,
   "id": "e340811d",
   "metadata": {},
   "outputs": [],
   "source": []
  }
 ],
 "metadata": {
  "kernelspec": {
   "display_name": "Python 3 (ipykernel)",
   "language": "python",
   "name": "python3"
  },
  "language_info": {
   "codemirror_mode": {
    "name": "ipython",
    "version": 3
   },
   "file_extension": ".py",
   "mimetype": "text/x-python",
   "name": "python",
   "nbconvert_exporter": "python",
   "pygments_lexer": "ipython3",
   "version": "3.9.16"
  }
 },
 "nbformat": 4,
 "nbformat_minor": 5
}
